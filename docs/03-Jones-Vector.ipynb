{
 "cells": [
  {
   "cell_type": "markdown",
   "metadata": {},
   "source": [
    "# The Jones Vector\n",
    "\n",
    "**Scott Prahl**\n",
    "\n",
    "*April 2020*"
   ]
  },
  {
   "cell_type": "code",
   "execution_count": 1,
   "metadata": {},
   "outputs": [],
   "source": [
    "import numpy as np\n",
    "import matplotlib.pyplot as plt\n",
    "\n",
    "import pypolar.jones as jones\n",
    "import pypolar.visualization as vis\n",
    "\n",
    "np.set_printoptions(suppress=True)  # to print 1e-16 as zero"
   ]
  },
  {
   "cell_type": "markdown",
   "metadata": {},
   "source": [
    "## Introduction\n",
    "\n",
    "This notebook generates Jones vectors for different polarization states and derives parameters from them.  It shows that `pypolar.jones` produces results that match those from standard references.  \n",
    "\n",
    "Complete details of the assumptions can be found in [Jupyter notebook on Conventions](./02-Jones-Conventions.html)\n",
    "\n",
    "Resources used or mentioned in this notebook.\n",
    "\n",
    "* Jones, \"A New Calculus for the Treatment of Optical Systems\", *JOSA*, **38**, 681 (1948).\n",
    "\n",
    "* Azzam, *Ellipsometry and Polarized Light*, 1977.\n",
    "* Collett, *Field Guide to Polarization*, 2005.\n",
    "* Fowles, *Introduction to Modern Optics*, 1975.\n",
    "* Goldstein, *Polarized Light*, 2003.\n",
    "* Kliger, *Polarized Light in Optics and Spectroscopy*, 1990\n",
    "* Shurcliff, *Polarized Light Production and Use*, 1962.\n",
    "* Tompkins, *Handbook of Ellipsometry*, 2005."
   ]
  },
  {
   "cell_type": "markdown",
   "metadata": {},
   "source": [
    "### Comparison with Kliger Appendix A page 275\n",
    "\n",
    "Here the Jones vectors (and polarization angles) are "
   ]
  },
  {
   "cell_type": "code",
   "execution_count": 2,
   "metadata": {},
   "outputs": [
    {
     "name": "stdout",
     "output_type": "stream",
     "text": [
      "alpha  tan(omega) beta    ϕy-ϕx       Standard Normalized\n",
      "  0.00   0.000    0.00     0.00   [        1.000,         0.000]\n",
      " 90.00   0.000   90.00     0.00   [        0.000,         1.000]\n",
      " 45.00   0.000   45.00     0.00   [        0.707,         0.707]\n",
      "-45.00   0.000   45.00   180.00   [        0.707,        -0.707]\n",
      " 30.00   0.000   30.00     0.00   [        0.866,         0.500]\n",
      "-60.00   0.000   60.00   180.00   [        0.500,        -0.866]\n",
      " 45.00   1.000   45.00    90.00   [ 0.707+0.000j,  0.000+0.707j]\n",
      " 45.00  -1.000   45.00   -90.00   [ 0.707+0.000j,  0.000-0.707j]\n",
      "  0.00   0.500   26.57    90.00   [ 0.894+0.000j,  0.000+0.447j]\n",
      "  0.00  -0.500   26.57   -90.00   [ 0.894+0.000j,  0.000-0.447j]\n",
      " 90.00   0.500   63.43    90.00   [ 0.447+0.000j,  0.000+0.894j]\n",
      " 90.00  -0.500   63.43   -90.00   [ 0.447+0.000j,  0.000-0.894j]\n",
      " 45.00   0.414   45.00    45.00   [ 0.707+0.000j,  0.500+0.500j]\n",
      " 45.00  -0.414   45.00   -45.00   [ 0.707+0.000j,  0.500-0.500j]\n",
      " 25.38   0.342   30.00    45.00   [ 0.866+0.000j,  0.354+0.354j]\n",
      "-64.62  -0.342   60.00  -135.00   [ 0.500+0.000j, -0.612-0.612j]\n"
     ]
    }
   ],
   "source": [
    "def printit(J):\n",
    "    alpha=np.degrees(jones.ellipse_azimuth(J))\n",
    "    tanomega = jones.ellipticity(J)\n",
    "    beta = np.degrees(jones.amplitude_ratio_angle(J))\n",
    "    delta = np.degrees(jones.phase(J))\n",
    "    print(\"%6.2f  %6.3f  %6.2f  %7.2f   [%13s, %13s]\" % \n",
    "          (alpha, tanomega,beta,delta,\n",
    "           J[0].__format__('.3f'),J[1].__format__('.3f')))\n",
    "    \n",
    "print(\"alpha  tan(omega) beta    ϕy-ϕx       Standard Normalized\")\n",
    "light = jones.field_horizontal()\n",
    "#print(\"Jones vector for horizontally-polarized light\")\n",
    "printit(light)\n",
    "\n",
    "light = jones.field_vertical()\n",
    "#print(\"Jones vector for vertically-polarized light\")\n",
    "printit(light)\n",
    "\n",
    "light = jones.field_linear(np.radians(45))\n",
    "#print(\"Jones vector for 45° linearly polarized light\")\n",
    "printit(light)\n",
    "\n",
    "light = jones.field_linear(np.radians(-45))\n",
    "#print(\"Jones vector for -45° linearly polarized light\")\n",
    "printit(light)\n",
    "\n",
    "light = jones.field_linear(np.radians(30))\n",
    "#print(\"Jones vector for 30° linearly polarized light\")\n",
    "printit(light)\n",
    "\n",
    "light = jones.field_linear(np.radians(-60))\n",
    "#print(\"Jones vector for -60° linearly polarized light\")\n",
    "printit(light)\n",
    "\n",
    "light = jones.field_right_circular()\n",
    "#print(\"Jones vector for right circularly polarized light\")\n",
    "printit(light)\n",
    "\n",
    "light = jones.field_left_circular()\n",
    "#print(\"Jones vector for left circularly polarized light\")\n",
    "printit(light)\n",
    "\n",
    "J = 1/np.sqrt(5)*np.array([2,1j])\n",
    "printit(J)\n",
    "\n",
    "J = 1/np.sqrt(5)*np.array([2,-1j])\n",
    "printit(J)\n",
    "\n",
    "J = 1/np.sqrt(5)*np.array([1,2j])\n",
    "printit(J)\n",
    "\n",
    "J = 1/np.sqrt(5)*np.array([1,-2j])\n",
    "printit(J)\n",
    "\n",
    "J = 1/2*np.array([np.sqrt(2),1+1j])\n",
    "printit(J)\n",
    "\n",
    "J = 1/2*np.array([np.sqrt(2),1-1j])\n",
    "printit(J)\n",
    "\n",
    "J = 1/2/np.sqrt(2)*np.array([np.sqrt(6),1+1j])\n",
    "printit(J)\n",
    "\n",
    "J = np.sqrt(6)/4*np.array([2/np.sqrt(6),-1-1j])\n",
    "printit(J)\n"
   ]
  },
  {
   "cell_type": "markdown",
   "metadata": {},
   "source": [
    "### Comparison with Shurcliff Table 2.1 page 23"
   ]
  },
  {
   "cell_type": "code",
   "execution_count": 3,
   "metadata": {},
   "outputs": [
    {
     "name": "stdout",
     "output_type": "stream",
     "text": [
      " tilt     b/a  Eyo/Exo    ϕy-ϕx       Standard Normalized\n",
      "  0.00   0.000     0.00     0.00   [        1.000,         0.000]\n",
      " 90.00   0.000      inf     0.00   [        0.000,         1.000]\n",
      " 45.00   0.000     1.00     0.00   [        0.707,         0.707]\n",
      "-45.00   0.000     1.00   180.00   [        0.707,        -0.707]\n",
      " 45.00   1.000     1.00    90.00   [ 0.000-0.707j,  0.707+0.000j]\n",
      " 45.00  -1.000     1.00   -90.00   [ 0.000+0.707j,  0.707+0.000j]\n",
      "  0.00   0.500     0.50    90.00   [ 0.000-0.894j,  0.447+0.000j]\n",
      " 90.00   0.500     2.00    90.00   [ 0.000-0.447j,  0.894+0.000j]\n",
      " 22.52   0.318     0.52    45.00   [ 0.887+0.000j,  0.325+0.325j]\n"
     ]
    }
   ],
   "source": [
    "def printit(J):\n",
    "    alpha=np.degrees(jones.ellipse_azimuth(J))\n",
    "    tanomega = jones.ellipticity(J)\n",
    "    ratio = jones.amplitude_ratio(J)\n",
    "    delta = np.degrees(jones.phase(J))\n",
    "    print(\"%6.2f  %6.3f  %7.2f  %7.2f   [%13s, %13s]\" % \n",
    "          (alpha, tanomega,ratio,delta,\n",
    "           J[0].__format__('.3f'),J[1].__format__('.3f')))\n",
    "\n",
    "print(\" tilt     b/a  Eyo/Exo    ϕy-ϕx       Standard Normalized\")\n",
    "\n",
    "J = np.array([1,0])\n",
    "printit(J)\n",
    "\n",
    "J = np.array([0,1])\n",
    "printit(J)\n",
    "\n",
    "J = 1/np.sqrt(2)*np.array([1,1])\n",
    "printit(J)\n",
    "\n",
    "J = 1/np.sqrt(2)*np.array([1,-1])\n",
    "printit(J)\n",
    "\n",
    "J = 1/np.sqrt(2)*np.array([-1j,1])\n",
    "printit(J)\n",
    "\n",
    "J = 1/np.sqrt(2)*np.array([1j,1])\n",
    "printit(J)\n",
    "\n",
    "J = 1/np.sqrt(5)*np.array([-2j,1])\n",
    "printit(J)\n",
    "\n",
    "J = 1/np.sqrt(5)*np.array([-1j,2])\n",
    "printit(J)\n",
    "\n",
    "J = 0.325*np.array([2.73,1+1j])\n",
    "printit(J)"
   ]
  },
  {
   "cell_type": "markdown",
   "metadata": {},
   "source": [
    "### Comparison with Wikipedia or Fowles (page 34)\n",
    "\n",
    "These treatments use $e^{kz-\\omega t}$ we need to use `jones.use_alternate_convention(True)` to account for this different convention. "
   ]
  },
  {
   "cell_type": "code",
   "execution_count": 4,
   "metadata": {},
   "outputs": [
    {
     "name": "stdout",
     "output_type": "stream",
     "text": [
      " tilt     b/a  Eyo/Exo    ϕy-ϕx       Standard Normalized\n",
      "Jones vector for horizontally-polarized light\n",
      "  0.00   0.000     0.00     0.00   [        1.000,         0.000]\n",
      "Jones vector for vertically-polarized light\n",
      " 90.00   0.000      inf     0.00   [        0.000,         1.000]\n",
      "Jones vector for 45° linearly polarized light\n",
      " 45.00   0.000     1.00     0.00   [        0.707,         0.707]\n",
      "Jones vector for -45° linearly polarized light\n",
      "-45.00   0.000     1.00   180.00   [        0.707,        -0.707]\n",
      "Jones vector for right circularly polarized light\n",
      " 45.00  -1.000     1.00   -90.00   [ 0.707-0.000j,  0.000-0.707j]\n",
      "Jones vector for left circularly polarized light\n",
      " 45.00   1.000     1.00    90.00   [ 0.707-0.000j,  0.000+0.707j]\n"
     ]
    }
   ],
   "source": [
    "def printit(J):\n",
    "    alpha=np.degrees(jones.ellipse_azimuth(J))\n",
    "    tanomega = jones.ellipticity(J)\n",
    "    ratio = jones.amplitude_ratio(J)\n",
    "    delta = np.degrees(jones.phase(J))\n",
    "    print(\"%6.2f  %6.3f  %7.2f  %7.2f   [%13s, %13s]\" % \n",
    "          (alpha, tanomega,ratio,delta,\n",
    "           J[0].__format__('.3f'),J[1].__format__('.3f')))\n",
    "\n",
    "# to account for different sign convention\n",
    "jones.use_alternate_convention(True)\n",
    "\n",
    "print(\" tilt     b/a  Eyo/Exo    ϕy-ϕx       Standard Normalized\")\n",
    "\n",
    "light = jones.field_horizontal()\n",
    "print(\"Jones vector for horizontally-polarized light\")\n",
    "printit(light)\n",
    "\n",
    "light = jones.field_vertical()\n",
    "print(\"Jones vector for vertically-polarized light\")\n",
    "printit(light)\n",
    "\n",
    "light = jones.field_linear(np.radians(45))\n",
    "print(\"Jones vector for 45° linearly polarized light\")\n",
    "printit(light)\n",
    "\n",
    "light = jones.field_linear(np.radians(-45))\n",
    "print(\"Jones vector for -45° linearly polarized light\")\n",
    "printit(light)\n",
    "\n",
    "light = jones.field_right_circular()\n",
    "print(\"Jones vector for right circularly polarized light\")\n",
    "printit(light)\n",
    "\n",
    "light = jones.field_left_circular()\n",
    "print(\"Jones vector for left circularly polarized light\")\n",
    "printit(light)\n",
    "\n",
    "jones.use_alternate_convention(False)\n",
    "\n"
   ]
  },
  {
   "cell_type": "markdown",
   "metadata": {},
   "source": [
    "## Round tripping through code\n",
    "\n",
    "This tests construction and deconstruction of Jones vectors."
   ]
  },
  {
   "cell_type": "code",
   "execution_count": 5,
   "metadata": {},
   "outputs": [
    {
     "name": "stdout",
     "output_type": "stream",
     "text": [
      "azimuth  calc     epsilon   calc    phi_x     calc      E0      calc\n",
      "-89.00   -89.00    12.00    12.00   -17.00   -17.00     3.00     3.00  \n",
      "-30.00   -30.00    12.00    12.00   -17.00   -17.00     3.00     3.00  \n",
      "-40.00   -40.00    12.00    12.00   -17.00   -17.00     3.00     3.00  \n",
      "  0.00     0.00    12.00    12.00   -17.00   -17.00     3.00     3.00  \n",
      " 40.00    40.00    12.00    12.00   -17.00   -17.00     3.00     3.00  \n",
      "\n",
      " 55.00    55.00    12.00    12.00   -89.00   -89.00     5.00     5.00  \n",
      " 55.00    55.00    12.00    12.00   -30.00   -30.00     5.00     5.00  \n",
      " 55.00    55.00    12.00    12.00   -40.00   -40.00     5.00     5.00  \n",
      " 55.00    55.00    12.00    12.00     0.00     0.00     5.00     5.00  \n",
      " 55.00    55.00    12.00    12.00    40.00    40.00     5.00     5.00  \n",
      "\n",
      "-15.00   -15.00   -44.00   -44.00    17.00    17.00     0.50     0.50  \n",
      "-15.00   -15.00   -30.00   -30.00    17.00    17.00     0.50     0.50  \n",
      "-15.00   -15.00     0.00    -0.00    17.00    17.00     0.50     0.50  \n",
      "-15.00   -15.00    15.00    15.00    17.00    17.00     0.50     0.50  \n",
      "-15.00   -15.00    40.00    40.00    17.00    17.00     0.50     0.50  \n"
     ]
    }
   ],
   "source": [
    "def testit(azimuth, ellipticity_angle, phi_x, E0):\n",
    "    J = jones.field_elliptical(azimuth, ellipticity_angle, phi_x, E0)\n",
    "    alpha = jones.ellipse_azimuth(J)\n",
    "    phix = np.angle(J[0])\n",
    "    epsilon = jones.ellipticity_angle(J)\n",
    "    delta = jones.phase(J)\n",
    "    Ex0, Ey0 = np.abs(J)\n",
    "    e0 = np.sqrt(Ex0**2+Ey0**2)\n",
    "    print(\"%6.2f   %6.2f   \" % (np.degrees(azimuth),np.degrees(alpha)), end='')\n",
    "    print(\"%6.2f   %6.2f   \" % (np.degrees(ellipticity_angle),np.degrees(epsilon)), end='')\n",
    "    print(\"%6.2f   %6.2f   \" % (np.degrees(phi_x),np.degrees(phix)), end='')\n",
    "    print(\"%6.2f   %6.2f  \" % (E0,e0))\n",
    "\n",
    "\n",
    "print(\"azimuth  calc     epsilon   calc    phi_x     calc      E0      calc\")\n",
    "ellipticity_angle = np.radians(12)\n",
    "phi_x = np.radians(-17)\n",
    "E0 = 3\n",
    "for az in [-89, -30, -40, 0, 40]:\n",
    "    azimuth = np.radians(az)\n",
    "    testit(azimuth, ellipticity_angle, phi_x, E0)\n",
    "print()\n",
    "\n",
    "azimuth = np.radians(55)\n",
    "E0 = 5\n",
    "for p in [-89, -30, -40, 0, 40]:\n",
    "    phi_x = np.radians(p)\n",
    "    testit(azimuth, ellipticity_angle, phi_x, E0)   \n",
    "print()\n",
    "\n",
    "azimuth = np.radians(-15)\n",
    "phi_x = np.radians(17)\n",
    "E0 = 0.5\n",
    "for p in [-44, -30, 0, 15, 40]:\n",
    "    ellipticity_angle = np.radians(p)\n",
    "    testit(azimuth, ellipticity_angle, phi_x, E0)"
   ]
  },
  {
   "cell_type": "markdown",
   "metadata": {},
   "source": [
    "## Intensities"
   ]
  },
  {
   "cell_type": "code",
   "execution_count": 6,
   "metadata": {},
   "outputs": [
    {
     "name": "stdout",
     "output_type": "stream",
     "text": [
      "Intensity for horizontally-polarized    light 1.000\n",
      "Intensity for vertically-polarized      light 1.000\n",
      "Intensity for 45° linearly polarized     light 1.000\n",
      "Intensity for right circularly polarized light 1.000\n",
      "Intensity for left circularly polarized  light 1.000\n"
     ]
    }
   ],
   "source": [
    "light = jones.field_horizontal()\n",
    "inten = jones.intensity(light)\n",
    "print(\"Intensity for horizontally-polarized    light %.3f\" % inten)\n",
    "\n",
    "light = jones.field_vertical()\n",
    "inten = jones.intensity(light)\n",
    "print(\"Intensity for vertically-polarized      light %.3f\" % inten)\n",
    "\n",
    "light = jones.field_linear(np.radians(45))\n",
    "inten = jones.intensity(light)\n",
    "print(\"Intensity for 45° linearly polarized     light %.3f\" % inten)\n",
    "\n",
    "light = jones.field_right_circular()\n",
    "inten = jones.intensity(light)\n",
    "print(\"Intensity for right circularly polarized light %.3f\" % inten)\n",
    "\n",
    "light = jones.field_left_circular()\n",
    "inten = jones.intensity(light)\n",
    "print(\"Intensity for left circularly polarized  light %.3f\" % inten)"
   ]
  },
  {
   "cell_type": "markdown",
   "metadata": {},
   "source": [
    "## The polarization variable $\\chi$\n",
    "\n",
    "The polarization variable is defined as \n",
    "\n",
    "$$\n",
    "\\chi= \\frac{E_y}{E_x}\n",
    "$$\n",
    "\n",
    "which happens to be equal to \n",
    "\n",
    "$$\n",
    "\\chi = \\frac{\\tan\\alpha+ j\\tan\\varepsilon}{1-j\\tan\\alpha\\tan\\varepsilon}\n",
    "$$\n",
    "\n",
    "where $\\alpha$ is the azimuth of the ellipse and $\\varepsilon=\\tan{b/a}$ is the ellipticity angle ($b$ and $a$ are the minor and major axes of the ellipse.\n",
    "                                                                                                   "
   ]
  },
  {
   "cell_type": "code",
   "execution_count": 7,
   "metadata": {},
   "outputs": [
    {
     "name": "stdout",
     "output_type": "stream",
     "text": [
      "jones    =  (-0.01693782214321035-0.97007152990789j)\n",
      "expected =  (-0.016937822143210306-0.9700715299078898j)\n",
      "\n",
      "jones    =  (-0.17445763018700944-0.6043389585039243j)\n",
      "expected =  (-0.17445763018700947-0.6043389585039243j)\n",
      "\n",
      "jones    =  (-0.2679491924311227-1.3739558588929501e-17j)\n",
      "expected =  (-0.2679491924311227+0j)\n",
      "\n",
      "jones    =  (-0.24743582965269675+0.2857142857142857j)\n",
      "expected =  (-0.24743582965269673+0.2857142857142857j)\n",
      "\n",
      "jones    =  (-0.07547402343166398+0.856068913882793j)\n",
      "expected =  (-0.07547402343166398+0.8560689138827929j)\n",
      "\n"
     ]
    }
   ],
   "source": [
    "azimuth = np.radians(-15)\n",
    "phi_x = np.radians(17)\n",
    "E0 = 0.5\n",
    "for p in [-44, -30, 0, 15, 40]:\n",
    "    ellipticity_angle = np.radians(p)\n",
    "    tane = np.tan(ellipticity_angle)\n",
    "    tana = np.tan(azimuth)\n",
    "    J = jones.field_elliptical(azimuth, ellipticity_angle, phi_x, E0)\n",
    "    chi1 = (tana+1j*tane)/(1-1j*tana*tane)\n",
    "    print('jones    = ', jones.polarization_variable(J))\n",
    "    print('expected = ', chi1)\n",
    "    print()\n",
    "\n"
   ]
  },
  {
   "cell_type": "code",
   "execution_count": null,
   "metadata": {},
   "outputs": [],
   "source": []
  }
 ],
 "metadata": {
  "kernelspec": {
   "display_name": "Python 3",
   "language": "python",
   "name": "python3"
  },
  "language_info": {
   "codemirror_mode": {
    "name": "ipython",
    "version": 3
   },
   "file_extension": ".py",
   "mimetype": "text/x-python",
   "name": "python",
   "nbconvert_exporter": "python",
   "pygments_lexer": "ipython3",
   "version": "3.7.6"
  },
  "toc": {
   "nav_menu": {},
   "number_sections": true,
   "sideBar": false,
   "skip_h1_title": false,
   "toc_cell": false,
   "toc_position": {},
   "toc_section_display": "none",
   "toc_window_display": false
  }
 },
 "nbformat": 4,
 "nbformat_minor": 2
}
