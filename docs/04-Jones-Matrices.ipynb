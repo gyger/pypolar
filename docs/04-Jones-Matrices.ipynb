{
 "cells": [
  {
   "cell_type": "markdown",
   "metadata": {},
   "source": [
    "# The Jones Matrices\n",
    "\n",
    "**Scott Prahl**\n",
    "\n",
    "*March 2020*\n",
    "\n",
    "Basic tests for polarizing elements (polarizers and retarders) present in the `pypolar.jones` module.  \n",
    "\n",
    "This module and most optics texts (including Fowles) define angles based on the reciever point-of-view.  This means that the electric field is viewed *against the direction of propagation* or on *looking into the source*.  Complete details of the assumptions used by `pypolar` can be found in [Jupyter notebook on Conventions](./02-Jones-Conventions.html"
   ]
  },
  {
   "cell_type": "code",
   "execution_count": 1,
   "metadata": {},
   "outputs": [],
   "source": [
    "import numpy as np\n",
    "import matplotlib.pyplot as plt\n",
    "\n",
    "import pypolar.jones as jones\n",
    "\n",
    "np.set_printoptions(suppress=True)  # print 1e-16 as zero"
   ]
  },
  {
   "cell_type": "markdown",
   "metadata": {},
   "source": [
    "## Jones matrices for linear polarizers\n",
    "\n",
    "These are the matrix operators needed for a theoretically perfect linear polarizer.  The polarizer is normal to the beam and it rotated around the axis of the beam.  The angle is measured from the horizontal plane.\n",
    "\n",
    "Matches Kliger Appendix B, page 281.  These match Wikipedia because there are no complex valued in the matrices."
   ]
  },
  {
   "cell_type": "code",
   "execution_count": 2,
   "metadata": {},
   "outputs": [
    {
     "name": "stdout",
     "output_type": "stream",
     "text": [
      "Jones Matrix for linear polarizer oriented at 0.0°\n",
      "[[1. 0.]\n",
      " [0. 0.]]\n",
      "Jones Matrix for linear polarizer oriented at 45.0°\n",
      "[[0.5 0.5]\n",
      " [0.5 0.5]]\n",
      "Jones Matrix for linear polarizer oriented at 90.0°\n",
      "[[0. 0.]\n",
      " [0. 1.]]\n",
      "Jones Matrix for linear polarizer oriented at -45.0°\n",
      "[[ 0.5 -0.5]\n",
      " [-0.5  0.5]]\n"
     ]
    }
   ],
   "source": [
    "for theta in [0,45,90,-45]:\n",
    "    print('Jones Matrix for linear polarizer oriented at %.1f°' % theta)\n",
    "    L = jones.op_linear_polarizer(np.radians(theta))\n",
    "    print(L)"
   ]
  },
  {
   "cell_type": "markdown",
   "metadata": {},
   "source": [
    "## Quarter-Wave Plates\n",
    "\n",
    "These match those on Kliger page 282, $\\delta=90$° and rotation angles $\\rho$"
   ]
  },
  {
   "cell_type": "code",
   "execution_count": 3,
   "metadata": {
    "scrolled": true
   },
   "outputs": [
    {
     "name": "stdout",
     "output_type": "stream",
     "text": [
      "Jones Matrix for QWP with fast axis at 0.0°\n",
      "[[0.70710678+0.70710678j 0.        +0.j        ]\n",
      " [0.        +0.j         0.70710678-0.70710678j]]\n",
      "\n",
      "Jones Matrix for QWP with fast axis at 45.0°\n",
      "[[0.70710678+0.j         0.        +0.70710678j]\n",
      " [0.        +0.70710678j 0.70710678-0.j        ]]\n",
      "\n",
      "Jones Matrix for QWP with fast axis at 90.0°\n",
      "[[0.70710678-0.70710678j 0.        +0.j        ]\n",
      " [0.        +0.j         0.70710678+0.70710678j]]\n",
      "\n",
      "Jones Matrix for QWP with fast axis at -45.0°\n",
      "[[ 0.70710678+0.j         -0.        -0.70710678j]\n",
      " [-0.        -0.70710678j  0.70710678-0.j        ]]\n",
      "\n"
     ]
    }
   ],
   "source": [
    "for theta in [0,45,90,-45]:\n",
    "    print('Jones Matrix for QWP with fast axis at %.1f°' % theta)\n",
    "    L = jones.op_quarter_wave_plate(np.radians(theta))\n",
    "    print(L)\n",
    "    print()"
   ]
  },
  {
   "cell_type": "markdown",
   "metadata": {},
   "source": [
    "Here are the matrices from Fowles Table 2.1 page 35"
   ]
  },
  {
   "cell_type": "code",
   "execution_count": 4,
   "metadata": {
    "scrolled": false
   },
   "outputs": [
    {
     "name": "stdout",
     "output_type": "stream",
     "text": [
      "Jones Matrix for QWP with fast axis at 0.0°\n",
      "[[ 0.70710678-0.70710678j -0.        -0.j        ]\n",
      " [-0.        -0.j          0.70710678+0.70710678j]]\n",
      "\n",
      "... and when scaled by so top left element is unity\n",
      "[[1.+0.j 0.-0.j]\n",
      " [0.-0.j 0.+1.j]]\n",
      "\n",
      "Jones Matrix for QWP with fast axis at 45.0°\n",
      "[[ 0.70710678-0.j         -0.        +0.70710678j]\n",
      " [-0.        +0.70710678j  0.70710678+0.j        ]]\n",
      "\n",
      "... and when scaled by so top left element is unity\n",
      "[[ 1.+0.j -0.+1.j]\n",
      " [-0.+1.j  1.+0.j]]\n",
      "\n",
      "Jones Matrix for QWP with fast axis at 90.0°\n",
      "[[ 0.70710678+0.70710678j -0.        +0.j        ]\n",
      " [-0.        +0.j          0.70710678-0.70710678j]]\n",
      "\n",
      "... and when scaled by so top left element is unity\n",
      "[[1.+0.j 0.+0.j]\n",
      " [0.+0.j 0.-1.j]]\n",
      "\n",
      "Jones Matrix for QWP with fast axis at -45.0°\n",
      "[[0.70710678-0.j         0.        -0.70710678j]\n",
      " [0.        -0.70710678j 0.70710678+0.j        ]]\n",
      "\n",
      "... and when scaled by so top left element is unity\n",
      "[[1.+0.j 0.-1.j]\n",
      " [0.-1.j 1.+0.j]]\n",
      "\n"
     ]
    }
   ],
   "source": [
    "jones.use_alternate_convention(True)\n",
    "\n",
    "for theta in [0,45,90,-45]:\n",
    "    print('Jones Matrix for QWP with fast axis at %.1f°' % theta)\n",
    "    L = jones.op_quarter_wave_plate(np.radians(theta))\n",
    "    print(L)\n",
    "    print()\n",
    "    norm = L[0,0]\n",
    "    print(\"... and when scaled by so top left element is unity\")\n",
    "    print(L/norm)\n",
    "    print()\n",
    "\n",
    "# restore default setting\n",
    "jones.use_alternate_convention(False)\n",
    "\n"
   ]
  },
  {
   "cell_type": "markdown",
   "metadata": {},
   "source": [
    "Here are the matrices from [Wikipedia](https://en.wikipedia.org/wiki/Jones_calculus)"
   ]
  },
  {
   "cell_type": "code",
   "execution_count": 5,
   "metadata": {
    "scrolled": false
   },
   "outputs": [
    {
     "name": "stdout",
     "output_type": "stream",
     "text": [
      "Jones Matrix for QWP with fast axis at 0.0°\n",
      "[[ 0.70710678-0.70710678j -0.        -0.j        ]\n",
      " [-0.        -0.j          0.70710678+0.70710678j]]\n",
      "\n",
      "... and when scaled by so top left element is unity\n",
      "[[1.+0.j 0.-0.j]\n",
      " [0.-0.j 0.+1.j]]\n",
      "\n",
      "Jones Matrix for QWP with fast axis at 45.0°\n",
      "[[ 0.70710678-0.j         -0.        +0.70710678j]\n",
      " [-0.        +0.70710678j  0.70710678+0.j        ]]\n",
      "\n",
      "... and when scaled by so top left element is unity\n",
      "[[ 1.+0.j -0.+1.j]\n",
      " [-0.+1.j  1.+0.j]]\n",
      "\n",
      "Jones Matrix for QWP with fast axis at 90.0°\n",
      "[[ 0.70710678+0.70710678j -0.        +0.j        ]\n",
      " [-0.        +0.j          0.70710678-0.70710678j]]\n",
      "\n",
      "... and when scaled by so top left element is unity\n",
      "[[1.+0.j 0.+0.j]\n",
      " [0.+0.j 0.-1.j]]\n",
      "\n",
      "Jones Matrix for QWP with fast axis at -45.0°\n",
      "[[0.70710678-0.j         0.        -0.70710678j]\n",
      " [0.        -0.70710678j 0.70710678+0.j        ]]\n",
      "\n",
      "... and when scaled by so top left element is unity\n",
      "[[1.+0.j 0.-1.j]\n",
      " [0.-1.j 1.+0.j]]\n",
      "\n"
     ]
    }
   ],
   "source": [
    "jones.use_alternate_convention(True)\n",
    "\n",
    "for theta in [0,45,90,-45]:\n",
    "    print('Jones Matrix for QWP with fast axis at %.1f°' % theta)\n",
    "    L = jones.op_quarter_wave_plate(np.radians(theta))\n",
    "    print(L)\n",
    "    print()\n",
    "    norm = L[0,0]\n",
    "    print(\"... and when scaled by so top left element is unity\")\n",
    "    print(L/norm)\n",
    "    print()\n",
    "\n",
    "jones.use_alternate_convention(False)\n",
    "\n"
   ]
  },
  {
   "cell_type": "markdown",
   "metadata": {},
   "source": [
    "## Half-Wave Plates\n",
    "\n",
    "Here, once again, both conventions match because there are no imaginary numbers involved"
   ]
  },
  {
   "cell_type": "code",
   "execution_count": 6,
   "metadata": {},
   "outputs": [
    {
     "name": "stdout",
     "output_type": "stream",
     "text": [
      "Jones Matrix for HWP with fast axis at 0.0°\n",
      "[[0.+1.j 0.+0.j]\n",
      " [0.+0.j 0.-1.j]]\n",
      "... and when scaled by so top left element is unity\n",
      "[[ 1.+0.j  0.+0.j]\n",
      " [ 0.+0.j -1.-0.j]]\n",
      "\n",
      "Jones Matrix for HWP with fast axis at 90.0°\n",
      "[[0.-1.j 0.+0.j]\n",
      " [0.+0.j 0.+1.j]]\n",
      "... and when scaled by so top left element is unity\n",
      "[[ 1.-0.j -0.+0.j]\n",
      " [-0.+0.j -1.+0.j]]\n",
      "\n",
      "Jones Matrix for HWP with fast axis at 45.0°\n",
      "[[0.+0.j 0.+1.j]\n",
      " [0.+1.j 0.-0.j]]\n",
      "... and when scaled by so top right element is unity\n",
      "[[ 0.-0.j  1.+0.j]\n",
      " [ 1.+0.j -0.-0.j]]\n",
      "\n",
      "Jones Matrix for HWP with fast axis at -45.0°\n",
      "[[ 0.+0.j -0.-1.j]\n",
      " [-0.-1.j  0.-0.j]]\n",
      "... and when scaled by so top right element is unity\n",
      "[[-0.+0.j  1.-0.j]\n",
      " [ 1.-0.j  0.+0.j]]\n",
      "\n"
     ]
    }
   ],
   "source": [
    "for theta in [0,90]:\n",
    "    print('Jones Matrix for HWP with fast axis at %.1f°' % theta)\n",
    "    L = jones.op_half_wave_plate(np.radians(theta))\n",
    "    print(L)\n",
    "    norm = L[0,0]\n",
    "    print(\"... and when scaled by so top left element is unity\")\n",
    "    print(L/norm)\n",
    "    print()\n",
    "    \n",
    "for theta in [45,-45]:\n",
    "    print('Jones Matrix for HWP with fast axis at %.1f°' % theta)\n",
    "    L = jones.op_half_wave_plate(np.radians(theta))\n",
    "    print(L)\n",
    "    norm = L[0,1]\n",
    "    print(\"... and when scaled by so top right element is unity\")\n",
    "    print(L/norm)\n",
    "    print()"
   ]
  }
 ],
 "metadata": {
  "kernelspec": {
   "display_name": "Python 3",
   "language": "python",
   "name": "python3"
  },
  "language_info": {
   "codemirror_mode": {
    "name": "ipython",
    "version": 3
   },
   "file_extension": ".py",
   "mimetype": "text/x-python",
   "name": "python",
   "nbconvert_exporter": "python",
   "pygments_lexer": "ipython3",
   "version": "3.7.5"
  },
  "toc": {
   "nav_menu": {},
   "number_sections": true,
   "sideBar": false,
   "skip_h1_title": false,
   "toc_cell": false,
   "toc_position": {},
   "toc_section_display": "none",
   "toc_window_display": false
  }
 },
 "nbformat": 4,
 "nbformat_minor": 2
}
