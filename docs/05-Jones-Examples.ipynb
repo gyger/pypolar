{
 "cells": [
  {
   "cell_type": "markdown",
   "metadata": {},
   "source": [
    "# The Jones Calculus: Examples\n",
    "\n",
    "**Scott Prahl**\n",
    "\n",
    "*March 2020*\n",
    "\n",
    "Basic tests and visualization options for the `pypolar.jones` module.  \n",
    "\n",
    "This module and many optics texts (including Fowles) define angles based on the reciever point-of-view.  This means that the electric field is viewed *against the direction of propagation* or on *looking into the source*.  Complete details of the conventions used can be found in this [Jupyter notebook on Conventions](./02-Jones-Conventions.html)  \n"
   ]
  },
  {
   "cell_type": "code",
   "execution_count": 1,
   "metadata": {},
   "outputs": [],
   "source": [
    "import numpy as np\n",
    "import matplotlib.pyplot as plt\n",
    "\n",
    "import pypolar.jones as jones\n",
    "import pypolar.visualization as vis\n",
    "\n",
    "# printing 1e-16 as zero\n",
    "np.set_printoptions(suppress=True)"
   ]
  },
  {
   "cell_type": "markdown",
   "metadata": {},
   "source": [
    "## Optical isolator"
   ]
  },
  {
   "cell_type": "markdown",
   "metadata": {},
   "source": [
    "<img src=\"http://omlc.org/~prahl/host/450/week1/isolator.png\" width=\"70%\">\n",
    "\n",
    "The path through the system is (b) linear polarizer at lab angle 0°, (C) QWP at 45°, (D) mirror , (E) QWP from the opposite side so -45°, linear polarizer at 0°"
   ]
  },
  {
   "cell_type": "code",
   "execution_count": 2,
   "metadata": {},
   "outputs": [],
   "source": [
    "B = jones.op_linear_polarizer(0)\n",
    "C = jones.op_quarter_wave_plate(np.pi/4)\n",
    "D = jones.op_mirror()\n",
    "E = jones.op_quarter_wave_plate(-np.pi/4)\n",
    "F = jones.op_linear_polarizer(0)"
   ]
  },
  {
   "cell_type": "markdown",
   "metadata": {},
   "source": [
    "We can find the operator for these elements by multiplying all the matrices together.  This is done using the `@` operator (since python 3.5).\n",
    "\n",
    "He we find the overall polarization operator for the five polarization elements is the zero matrix!  Therefore any incident polarization state will be zeroed out — exactly what is needed for an optical isolator."
   ]
  },
  {
   "cell_type": "code",
   "execution_count": 3,
   "metadata": {},
   "outputs": [
    {
     "data": {
      "text/plain": [
       "array([[0.+0.j, 0.+0.j],\n",
       "       [0.+0.j, 0.+0.j]])"
      ]
     },
     "execution_count": 3,
     "metadata": {},
     "output_type": "execute_result"
    }
   ],
   "source": [
    "F @ E @ D @ C @ B"
   ]
  },
  {
   "cell_type": "markdown",
   "metadata": {},
   "source": [
    "It is worth emphasizing that `@` is required.  The usual `*` operator only multiplies elements together and therefore ends up with the wrong result!"
   ]
  },
  {
   "cell_type": "code",
   "execution_count": 4,
   "metadata": {},
   "outputs": [
    {
     "data": {
      "text/plain": [
       "array([[0.5+0.j, 0. +0.j],\n",
       "       [0. +0.j, 0. +0.j]])"
      ]
     },
     "execution_count": 4,
     "metadata": {},
     "output_type": "execute_result"
    }
   ],
   "source": [
    "F * E * D * C * B"
   ]
  },
  {
   "cell_type": "markdown",
   "metadata": {},
   "source": [
    "Compare `C @ D` with `D * C` and it is clear that the two methods give completely different results."
   ]
  },
  {
   "cell_type": "code",
   "execution_count": 5,
   "metadata": {},
   "outputs": [
    {
     "name": "stdout",
     "output_type": "stream",
     "text": [
      "[[ 0.70710678+0.j          0.        -0.70710678j]\n",
      " [ 0.        +0.70710678j -0.70710678+0.j        ]]\n",
      "\n",
      "[[ 0.70710678+0.j  0.        +0.j]\n",
      " [ 0.        +0.j -0.70710678+0.j]]\n"
     ]
    }
   ],
   "source": [
    "print(C @ D)\n",
    "print()\n",
    "print(C * D)"
   ]
  },
  {
   "cell_type": "code",
   "execution_count": null,
   "metadata": {},
   "outputs": [],
   "source": []
  }
 ],
 "metadata": {
  "kernelspec": {
   "display_name": "Python 3",
   "language": "python",
   "name": "python3"
  },
  "language_info": {
   "codemirror_mode": {
    "name": "ipython",
    "version": 3
   },
   "file_extension": ".py",
   "mimetype": "text/x-python",
   "name": "python",
   "nbconvert_exporter": "python",
   "pygments_lexer": "ipython3",
   "version": "3.7.5"
  },
  "toc": {
   "nav_menu": {},
   "number_sections": true,
   "sideBar": false,
   "skip_h1_title": false,
   "toc_cell": false,
   "toc_position": {},
   "toc_section_display": "none",
   "toc_window_display": false
  }
 },
 "nbformat": 4,
 "nbformat_minor": 2
}
