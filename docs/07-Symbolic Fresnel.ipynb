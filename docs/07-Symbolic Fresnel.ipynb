{
 "cells": [
  {
   "cell_type": "markdown",
   "metadata": {},
   "source": [
    "<h1>Using the Symbolic Fresnel Routines</h1>\n",
    "\n",
    "**Scott Prahl**\n",
    "\n",
    "April 2019"
   ]
  },
  {
   "cell_type": "code",
   "execution_count": 1,
   "metadata": {},
   "outputs": [],
   "source": [
    "%matplotlib notebook\n",
    "import sympy\n",
    "import pypolar.sym_fresnel as sym_fresnel\n",
    "\n",
    "# To solve \"No module named 'pypolar.fresnel'\", run on the command-line (or Anaconda prompt)\n",
    "#      pip install --upgrade pypolar\n",
    "\n",
    "sympy.init_printing(use_unicode=True)"
   ]
  },
  {
   "cell_type": "code",
   "execution_count": null,
   "metadata": {},
   "outputs": [],
   "source": [
    "theta = sympy.Symbol('theta')\n",
    "m = sympy.Symbol('m')\n",
    "sym_fresnel.t_par(m,theta)"
   ]
  }
 ],
 "metadata": {
  "kernelspec": {
   "display_name": "Python 3",
   "language": "python",
   "name": "python3"
  },
  "language_info": {
   "codemirror_mode": {
    "name": "ipython",
    "version": 3
   },
   "file_extension": ".py",
   "mimetype": "text/x-python",
   "name": "python",
   "nbconvert_exporter": "python",
   "pygments_lexer": "ipython3",
   "version": "3.7.3"
  }
 },
 "nbformat": 4,
 "nbformat_minor": 2
}
