{
 "cells": [
  {
   "cell_type": "markdown",
   "metadata": {},
   "source": [
    "# Using the Symbolic Fresnel Routines\n",
    "\n",
    "**Scott Prahl**\n",
    "\n",
    "April 2019"
   ]
  },
  {
   "cell_type": "code",
   "execution_count": 1,
   "metadata": {},
   "outputs": [],
   "source": [
    "import sympy\n",
    "import pypolar.sym_fresnel as sym_fresnel\n",
    "\n",
    "sympy.init_printing(use_unicode=True)"
   ]
  },
  {
   "cell_type": "code",
   "execution_count": 2,
   "metadata": {},
   "outputs": [
    {
     "data": {
      "image/png": "[encoded data removed]",
      "text/latex": [
       "$\\displaystyle \\frac{2 m \\cos{\\left(\\theta \\right)}}{m^{2} \\cos{\\left(\\theta \\right)} + \\sqrt{m^{2} - \\sin^{2}{\\left(\\theta \\right)}}}$"
      ],
      "text/plain": [
       "          2⋅m⋅cos(θ)         \n",
       "─────────────────────────────\n",
       "               ______________\n",
       " 2            ╱  2      2    \n",
       "m ⋅cos(θ) + ╲╱  m  - sin (θ) "
      ]
     },
     "execution_count": 2,
     "metadata": {},
     "output_type": "execute_result"
    }
   ],
   "source": [
    "theta = sympy.Symbol('theta')\n",
    "m = sympy.Symbol('m')\n",
    "sym_fresnel.t_par(m,theta)"
   ]
  },
  {
   "cell_type": "code",
   "execution_count": null,
   "metadata": {},
   "outputs": [],
   "source": []
  }
 ],
 "metadata": {
  "kernelspec": {
   "display_name": "Python 3",
   "language": "python",
   "name": "python3"
  },
  "language_info": {
   "codemirror_mode": {
    "name": "ipython",
    "version": 3
   },
   "file_extension": ".py",
   "mimetype": "text/x-python",
   "name": "python",
   "nbconvert_exporter": "python",
   "pygments_lexer": "ipython3",
   "version": "3.7.5"
  }
 },
 "nbformat": 4,
 "nbformat_minor": 2
}
