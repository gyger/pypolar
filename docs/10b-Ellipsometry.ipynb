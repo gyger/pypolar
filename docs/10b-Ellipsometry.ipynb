{
 "cells": [
  {
   "cell_type": "markdown",
   "metadata": {},
   "source": [
    "# Null Ellipsometry\n",
    "\n",
    "**Scott Prahl**\n",
    "\n",
    "*April 2020*\n",
    "\n",
    "References\n",
    "\n",
    "* Archer, *Manual on Ellipsometry* 1968.\n",
    "* Azzam, *Ellipsometry and Polarized Light*, 1977.\n",
    "* Fujiwara, *Spectroscopic Ellipsometry*, 2007.\n",
    "* McCrackin, \"Measurement of the Thickness and Refractive Index of Very Thin Films and the Optical Properties of Surfaces by Ellipsometry,\" 1963.\n",
    "* Tompkins, *A User's Guide to Ellipsometry*, 1993\n",
    "* Tompkins, *Handbook of Ellipsometry*, 2005.\n",
    "* Woollam, *A short course in ellipsometry*, 2001."
   ]
  },
  {
   "cell_type": "code",
   "execution_count": 1,
   "metadata": {},
   "outputs": [],
   "source": [
    "import sympy\n",
    "import numpy as np\n",
    "import matplotlib.pyplot as plt\n",
    "\n",
    "import pypolar.fresnel as fresnel\n",
    "import pypolar.jones as jones\n",
    "import pypolar.sym_jones as sym_jones\n",
    "import pypolar.visualization as vis\n",
    "import pypolar.ellipsometry as ellipso\n",
    "\n",
    "sympy.init_printing(use_unicode=True)"
   ]
  },
  {
   "cell_type": "markdown",
   "metadata": {},
   "source": [
    "## Null Ellipsometry"
   ]
  },
  {
   "cell_type": "markdown",
   "metadata": {},
   "source": [
    "### Layout\n",
    "\n",
    "<img src=\"pca.png\" width=\"100%\">\n",
    "\n",
    "A typical layout for a null ellipsometer is shown below.  An unpolarized laser is incident on a linear polarizer set at an angle $\\theta_p$.  The light then passes through a \n",
    "quarter wave plate (QWP) set at ±45° to the plane of incidence.  The light emerging from the polarizer will in general be elliptically polarized.  This light hits the sample and the reflected light passes through an analyzer (at $\\theta_a$) before reaching the detector.\n",
    "\n",
    "In null ellipsometry, the polarizer and analyzer are rotated until no light reaches the detector.  These angles are used to determine $\\tan\\psi$ and $\\Delta$, which in turn, are used to calculate the complex refractive index of the sample."
   ]
  },
  {
   "cell_type": "markdown",
   "metadata": {},
   "source": [
    "### Zones\n",
    "\n",
    "McCrackin summarizes\n",
    "\n",
    ">For any given surface there is a multiplicity of\n",
    "polarizer, analyzer, and compensator scale settings\n",
    "that produce extinction by the analyzer of the\n",
    "reflected light from the surface, and it becomes\n",
    "somewhat of a problem to determine the values of\n",
    "$\\Delta$ and $\\psi$ from these various readings. In order to\n",
    "explain how these numerous readings arise and how\n",
    "$\\Delta$ and $\\psi$ may be computed from them it is well to\n",
    "keep two facts in mind: (a) all azimuthal angles are\n",
    "measured positive counter-clockwise from the plane\n",
    "of incidence when looking into the light beam, and\n",
    "(b) the compensator, which may be set at any azimuth,\n",
    "is generally set so that its fast axis is in an\n",
    "azimuth of $\\pm\\pi/4$...\n",
    "\n",
    ">The various readings fall into four sets called\n",
    "zones, two with the fast axis of the compensator set\n",
    "at $\\pi/4$, numbered 2 and 4, and two with it set at\n",
    "$-\\pi/4$, numbered 1 and 3. In each zone there is\n",
    "one independent set of polarizer and analyzer readings,\n",
    "making four independent sets of $\\theta_p$ and $\\theta_a$\n",
    "readings in all. However, since both analyzer and\n",
    "polarizer may be rotated by $\\pi$ without affecting the\n",
    "results, there are 16 polarizer and analyzer settings\n",
    "falling into four independent zones. Since the\n",
    "compensator may also be rotated by $\\pi$ without\n",
    "affecting the results, there are 32 possible sets of\n",
    "readings on the ellipsometer.\n",
    "\n",
    "\n",
    "The various null angles fall into four sets called zones, two with the fast-axis\n",
    "of the quarter wave plate set 45° (2 & 4) and two with the fast-axis of the\n",
    "quarter wave plate set to -45° (1 & 3).  In each zone there are four combinations\n",
    "of polarizer and analyzer angles that have a null reading (because rotation of a\n",
    "linear polarizer by 180° should give the same result.  Identifying the right values to \n",
    "determine $\\psi$ and $\\Delta$ is confusing so\n",
    "McCrackin introduces three new parameters ($p$, $a_s$, and $a_p$) to simplify\n",
    "    \n",
    ">Rather than calculating $\\Delta$ and $\\psi$ directly from the\n",
    "$\\theta_p$ and $\\theta_a$ values, it is useful to calculate three other\n",
    "quantities, $p$, $a_p$, and $a_s$, from the $\\theta_p$ and $\\theta_a$ values,\n",
    "$p$ being related to the $\\theta_p$ readings, $a_p$, related to the\n",
    "$\\theta_a$ readings in zones 1 and 4, and $a_s$, related to the\n",
    "$\\theta_a$ readings in zones 2 and 3. For a perfect quarterwave\n",
    "plate these are related to $\\Delta$ and $\\psi$ by\n",
    "\n",
    "$$\n",
    "\\Delta = \\frac{\\pi}{2} +2p\n",
    "\\qquad\\mbox{and}\\qquad\n",
    "\\psi=a_s = a_p\n",
    "$$\n",
    "\n",
    "| Zone  |  QWP Orientation  | Polarizer Angle $\\theta_p$  |  Analyzer Angle $\\theta_p$   |\n",
    "|:-----:|:-------------:|:----------|:--------|\n",
    "| 1     |    $-\\pi/4$      | $p$        | $a_p$      |\n",
    "|       |                  | $p+\\pi$    | $a_p$      |\n",
    "|       |                  | $p$        | $a_p+\\pi$  |\n",
    "|       |                  | $p+\\pi$    | $a_p+\\pi$  |\n",
    "|       |                  |            |            |\n",
    "| 3     |    $-\\pi/4$      | $p+ \\pi/2$ | $ \\pi-a_s$ |\n",
    "|       |                  | $p+3\\pi/2$ | $ \\pi-a_s$ |\n",
    "|       |                  | $p+ \\pi/2$ | $2\\pi-a_s$ |\n",
    "|       |                  | $p+3\\pi/2$ | $2\\pi-a_s$ |\n",
    "|       |                  |            |            |\n",
    "| 2     |    $+\\pi/4$      | $ \\pi/2-p$ | $a_s$      |\n",
    "|       |                  | $3\\pi/2-p$ | $a_s$      |\n",
    "|       |                  | $ \\pi/2-p$ | $a_s+\\pi$  |\n",
    "|       |                  | $3\\pi/2-p$ | $a_s+\\pi$  |\n",
    "|       |                  |            |            |\n",
    "| 4     |    $+\\pi/4$      | $ \\pi-p$   | $ \\pi-a_p$ |\n",
    "|       |                  | $2\\pi-p$   | $ \\pi-a_p$ |\n",
    "|       |                  | $ \\pi-p$   | $2\\pi-a_p$ |\n",
    "|       |                  | $2\\pi-p$   | $2\\pi-a_p$ |\n",
    "\n",
    "So for an ellipsometer with the QWP at 45°, there are eight different polarizer/analyzer pairs that will null the reflected light.  The $\\psi$ and $\\Delta$ values are readily calculated from these using:\n",
    "\n",
    "$$\n",
    "\\Delta = \\frac{\\pi}{2} +2p\n",
    "\\qquad\\mbox{and}\\qquad\n",
    "\\psi=a_s = a_p\n",
    "$$"
   ]
  },
  {
   "cell_type": "markdown",
   "metadata": {},
   "source": [
    "#### Zone 2\n",
    "\n",
    "We know that $0\\le\\psi\\le\\pi/2$ and that $0\\le\\Delta\\le2\\pi$.  Therefore with a bit of algebra, the first row of zone 2 leads to the requirement that the analyzer must be between 0° and 90°:\n",
    "\n",
    "$$\n",
    "0°<\\theta_{a2}<90° \\quad\\mbox{and}\\quad -45°\\le\\theta_{p2}\\le135°\n",
    "$$\n",
    "\n",
    "when **both** conditions are satisfied, then\n",
    "\n",
    "$$\n",
    "\\psi = \\theta_{a2} \\quad\\textit{and}\\quad \\Delta = 270°-2\\theta_{p2} \n",
    "$$"
   ]
  },
  {
   "cell_type": "markdown",
   "metadata": {},
   "source": [
    "#### Zone 4\n",
    "\n",
    "For zone 4, the last row in Table 1 requires the analyzer to be between -90° and 0°\n",
    "\n",
    "$$\n",
    "-90°<\\theta_{a4}<0° \\quad\\mbox{and}\\quad -135°<\\theta_{p4}<45°\n",
    "$$\n",
    "\n",
    "when **both** conditions are satisfied, then\n",
    "\n",
    "$$\n",
    "\\psi = -\\theta_{a4} \\quad\\textit{and}\\quad \\Delta = 90°-2\\theta_{p4}\n",
    "$$\n",
    "\n",
    "Measurements in either zone should lead to the same value for $\\psi$ and $\\Delta$.  The average of the values from zones 2 and 4 should eliminate errors due to inexact compensation by the QWP.  "
   ]
  },
  {
   "cell_type": "markdown",
   "metadata": {},
   "source": [
    "### BK7"
   ]
  },
  {
   "cell_type": "code",
   "execution_count": 2,
   "metadata": {},
   "outputs": [
    {
     "data": {
      "image/png": "[encoded data removed]",
      "text/latex": [
       "$$1.5707963267948966$$"
      ],
      "text/plain": [
       "1.5707963267948966"
      ]
     },
     "execution_count": 2,
     "metadata": {},
     "output_type": "execute_result"
    }
   ],
   "source": [
    "np.pi/2"
   ]
  },
  {
   "cell_type": "code",
   "execution_count": 3,
   "metadata": {},
   "outputs": [
    {
     "name": "stdout",
     "output_type": "stream",
     "text": [
      "m       = 1.5250+0.0000j\n",
      "theta_i =    70.0°\n",
      "\n",
      "zone  theta_p   theta_a\n",
      "  1    315.0°     20.1°\n",
      "  1    135.0°     20.1°\n",
      "  1    315.0°    200.1°\n",
      "  1    135.0°    180.0°\n",
      "\n",
      "  3     45.0°    159.9°\n",
      "  3    225.0°    159.9°\n",
      "  3     45.0°    339.9°\n",
      "  3    225.0°    339.9°\n",
      "\n",
      "  2    135.0°     20.1°\n",
      "  2    315.0°     20.1°\n",
      "  2    135.0°    200.1°\n",
      "  2    315.0°    200.1°\n",
      "\n",
      "  4    225.0°    159.9°\n",
      "  4     45.0°    159.9°\n",
      "  4    225.0°    339.9°\n",
      "  4     45.0°    339.9°\n",
      "\n",
      "p       =   -45.0°\n",
      "a       =    20.1°\n",
      "\n",
      "psi     =    20.1°\n",
      "Delta   =     0.0°\n",
      "\n",
      "\n"
     ]
    }
   ],
   "source": [
    "theta_i = np.radians(70)\n",
    "m = 1.525\n",
    "\n",
    "s = ellipso.null_angles_report(m, theta_i)\n",
    "print(s)"
   ]
  },
  {
   "cell_type": "code",
   "execution_count": 17,
   "metadata": {},
   "outputs": [
    {
     "name": "stdout",
     "output_type": "stream",
     "text": [
      "50.0\n",
      "(1.4916235768488333-4.630931219065213e-17j)\n",
      "(1.568656820688237-6.089541259265148e-17j)\n",
      "70.0\n",
      "(1.5711963698409195+0j)\n",
      "(1.5229061519292106+0j)\n"
     ]
    }
   ],
   "source": [
    "#### \n",
    "theta_i = np.radians(50)\n",
    "print(np.degrees(theta_i))\n",
    "P2 = np.radians(45)\n",
    "A2 = np.radians(9.5)\n",
    "rho2 = ellipso.rho_from_zone_2_null_angles(P2,A2)\n",
    "m = ellipso.m_from_rho(rho2,theta_i)\n",
    "print(m)\n",
    "\n",
    "P4 = np.radians(315.0-360)\n",
    "A4 = np.radians(348.7-360)\n",
    "rho4 = ellipso.rho_from_zone_4_null_angles(P4,A4)\n",
    "m = ellipso.m_from_rho(rho4,theta_i)\n",
    "print(m)\n",
    "\n",
    "theta_i = np.radians(70)\n",
    "print(np.degrees(theta_i))\n",
    "P2 = np.radians(135)\n",
    "A2 = np.radians(19)\n",
    "rho2 = ellipso.rho_from_zone_2_null_angles(P2,A2)\n",
    "m = ellipso.m_from_rho(rho2,theta_i)\n",
    "print(m)\n",
    "\n",
    "P4 = np.radians(45)\n",
    "A4 = np.radians(-20.1)\n",
    "rho4 = ellipso.rho_from_zone_4_null_angles(P4,A4)\n",
    "m = ellipso.m_from_rho(rho4,theta_i)\n",
    "print(m)"
   ]
  },
  {
   "cell_type": "code",
   "execution_count": 5,
   "metadata": {},
   "outputs": [
    {
     "name": "stdout",
     "output_type": "stream",
     "text": [
      "m       = 1.5250+0.0000j\n",
      "theta_i =    50.0°\n",
      "\n",
      "zone  theta_p   theta_a\n",
      "  1     45.0°     10.3°\n",
      "  1    225.0°     10.3°\n",
      "  1     45.0°    190.3°\n",
      "  1    225.0°    180.0°\n",
      "\n",
      "  3    135.0°    169.7°\n",
      "  3    315.0°    169.7°\n",
      "  3    135.0°    349.7°\n",
      "  3    315.0°    349.7°\n",
      "\n",
      "  2     45.0°     10.3°\n",
      "  2    225.0°     10.3°\n",
      "  2     45.0°    190.3°\n",
      "  2    225.0°    190.3°\n",
      "\n",
      "  4    135.0°    169.7°\n",
      "  4    315.0°    169.7°\n",
      "  4    135.0°    349.7°\n",
      "  4    315.0°    349.7°\n",
      "\n",
      "p       =    45.0°\n",
      "a       =    10.3°\n",
      "\n",
      "psi     =    10.3°\n",
      "Delta   =   180.0°\n",
      "\n",
      "\n"
     ]
    }
   ],
   "source": [
    "theta_i = np.radians(50)\n",
    "m = 1.525\n",
    "\n",
    "s = ellipso.null_angles_report(m, theta_i)\n",
    "print(s)"
   ]
  },
  {
   "cell_type": "markdown",
   "metadata": {},
   "source": [
    "### Amorphous Silicon"
   ]
  },
  {
   "cell_type": "code",
   "execution_count": 6,
   "metadata": {},
   "outputs": [
    {
     "name": "stdout",
     "output_type": "stream",
     "text": [
      "****Amorphous Silicon****\n",
      "\n",
      " m       = 4.5160-0.2490j\n",
      "theta_i =    70.0°\n",
      "\n",
      "zone  theta_p   theta_a\n",
      "  1     42.1°     14.8°\n",
      "  1    222.1°     14.8°\n",
      "  1     42.1°    194.8°\n",
      "  1    222.1°    180.0°\n",
      "\n",
      "  3    132.1°    165.2°\n",
      "  3    312.1°    165.2°\n",
      "  3    132.1°    345.2°\n",
      "  3    312.1°    345.2°\n",
      "\n",
      "  2     47.9°     14.8°\n",
      "  2    227.9°     14.8°\n",
      "  2     47.9°    194.8°\n",
      "  2    227.9°    194.8°\n",
      "\n",
      "  4    137.9°    165.2°\n",
      "  4    317.9°    165.2°\n",
      "  4    137.9°    345.2°\n",
      "  4    317.9°    345.2°\n",
      "\n",
      "p       =    42.1°\n",
      "a       =    14.8°\n",
      "\n",
      "psi     =    14.8°\n",
      "Delta   =   174.2°\n",
      "\n",
      "\n"
     ]
    }
   ],
   "source": [
    "theta_i = np.radians(70)\n",
    "m = 4.516 - 0.249j \n",
    "s = ellipso.null_angles_report(m, theta_i)\n",
    "print(\"****Amorphous Silicon****\\n\\n\",s)"
   ]
  },
  {
   "cell_type": "markdown",
   "metadata": {},
   "source": [
    "### Crystalline Silicon"
   ]
  },
  {
   "cell_type": "code",
   "execution_count": 7,
   "metadata": {
    "scrolled": false
   },
   "outputs": [
    {
     "name": "stdout",
     "output_type": "stream",
     "text": [
      "****Crystalline Silicon****\n",
      "\n",
      " m       = 3.8750-0.0230j\n",
      "theta_i =    70.0°\n",
      "\n",
      "zone  theta_p   theta_a\n",
      "  1     44.5°     10.5°\n",
      "  1    224.5°     10.5°\n",
      "  1     44.5°    190.5°\n",
      "  1    224.5°    180.0°\n",
      "\n",
      "  3    134.5°    169.5°\n",
      "  3    314.5°    169.5°\n",
      "  3    134.5°    349.5°\n",
      "  3    314.5°    349.5°\n",
      "\n",
      "  2     45.5°     10.5°\n",
      "  2    225.5°     10.5°\n",
      "  2     45.5°    190.5°\n",
      "  2    225.5°    190.5°\n",
      "\n",
      "  4    135.5°    169.5°\n",
      "  4    315.5°    169.5°\n",
      "  4    135.5°    349.5°\n",
      "  4    315.5°    349.5°\n",
      "\n",
      "p       =    44.5°\n",
      "a       =    10.5°\n",
      "\n",
      "psi     =    10.5°\n",
      "Delta   =   179.1°\n",
      "\n",
      "\n"
     ]
    }
   ],
   "source": [
    "theta_i = np.radians(70)\n",
    "m = 3.875 - 0.023j  # crystalline silicon\n",
    "s = ellipso.null_angles_report(m, theta_i)\n",
    "print(\"****Crystalline Silicon****\\n\\n\",s)"
   ]
  },
  {
   "cell_type": "code",
   "execution_count": 18,
   "metadata": {},
   "outputs": [
    {
     "name": "stdout",
     "output_type": "stream",
     "text": [
      "50.0\n",
      "(3.905633098928391+0.7320990564489631j)\n",
      "(3.8369866335581917-0.3785649340861991j)\n",
      "70.0\n",
      "(3.7215641030895554-0.48783161452493856j)\n",
      "(3.777718069991995-0.5224990856172298j)\n"
     ]
    }
   ],
   "source": [
    "theta_i = np.radians(50)\n",
    "print(np.degrees(theta_i))\n",
    "\n",
    "P2 = np.radians(42.3)\n",
    "A2 = np.radians(32.1)\n",
    "\n",
    "rho2 = ellipso.rho_from_zone_2_null_angles(P2,A2)\n",
    "m = ellipso.m_from_rho(rho2,theta_i)\n",
    "print(m)\n",
    "\n",
    "P4 = np.radians(316.5-360)\n",
    "A4 = np.radians(328.5-360)\n",
    "rho4 = ellipso.rho_from_zone_4_null_angles(P4,A4)\n",
    "m = ellipso.m_from_rho(rho4,theta_i)\n",
    "print(m)\n",
    "\n",
    "theta_i = np.radians(70)\n",
    "print(np.degrees(theta_i))\n",
    "\n",
    "\n",
    "P2 = np.radians(55.8)\n",
    "A2 = np.radians(10.4)\n",
    "\n",
    "rho2 = ellipso.rho_from_zone_2_null_angles(P2,A2)\n",
    "m = ellipso.m_from_rho(rho2,theta_i)\n",
    "print(m)\n",
    "\n",
    "P4 = np.radians(-34.2)\n",
    "A4 = np.radians(-10.9)\n",
    "rho4 = ellipso.rho_from_zone_4_null_angles(P4,A4)\n",
    "m = ellipso.m_from_rho(rho4,theta_i)\n",
    "print(m)"
   ]
  },
  {
   "cell_type": "code",
   "execution_count": null,
   "metadata": {},
   "outputs": [],
   "source": [
    "theta = sympy.Symbol('theta', real=True)\n",
    "m = sympy.Symbol('m', complex=True)\n",
    "\n",
    "theta"
   ]
  },
  {
   "cell_type": "code",
   "execution_count": null,
   "metadata": {},
   "outputs": [],
   "source": [
    "QWP = sym_jones.op_quarter_wave_plate(sympy.numbers.pi/4)\n",
    "QWP"
   ]
  },
  {
   "cell_type": "code",
   "execution_count": null,
   "metadata": {},
   "outputs": [],
   "source": [
    "POL = 1/sympy.sqrt(2)*sym_jones.field_linear(theta)\n",
    "POL"
   ]
  },
  {
   "cell_type": "code",
   "execution_count": null,
   "metadata": {},
   "outputs": [],
   "source": [
    "help(sym_jones.field_elliptical)"
   ]
  },
  {
   "cell_type": "code",
   "execution_count": null,
   "metadata": {},
   "outputs": [],
   "source": [
    "delta_ip = sympy.Symbol('delta_ip', real=True)\n",
    "delta_is = sympy.Symbol('delta_is', real=True)\n",
    "\n",
    "Eip = sympy.Symbol('E_ip', real=True)\n",
    "Eis = sympy.Symbol('E_is', real=True)\n",
    "\n",
    "Ei = sympy.Matrix([Eip*sympy.exp(delta_ip*sympy.I),Eip*sympy.exp(delta_is*sympy.I)])\n",
    "Ei"
   ]
  },
  {
   "cell_type": "code",
   "execution_count": null,
   "metadata": {},
   "outputs": [],
   "source": [
    "Er = REFL * Ei\n",
    "\n",
    "Er"
   ]
  },
  {
   "cell_type": "code",
   "execution_count": null,
   "metadata": {},
   "outputs": [],
   "source": [
    "REFL = sym_jones.op_fresnel_reflection(m, theta)\n",
    "sympy.simplify(REFL[0,0]/REFL[1,1])"
   ]
  },
  {
   "cell_type": "code",
   "execution_count": null,
   "metadata": {},
   "outputs": [],
   "source": [
    "dir(sym_jones)"
   ]
  },
  {
   "cell_type": "code",
   "execution_count": null,
   "metadata": {},
   "outputs": [],
   "source": [
    "r_p = sympy.Symbol('r_p', complex=True)\n",
    "r_s = sympy.Symbol('r_s', complex=True)\n",
    "theta_p = sympy.Symbol('theta_p', complex=True)\n",
    "theta_a = sympy.Symbol('theta_a', complex=True)\n",
    "E0 = sympy.Symbol('E_0', real=True)\n",
    "\n",
    "J = E0 * sym_jones.field_horizontal()\n",
    "\n",
    "rotate1 = sym_jones.op_rotation(-theta_p)\n",
    "\n",
    "refl = sympy.Matrix([[r_p,0],[0,r_s]])\n",
    "\n",
    "rotate2 = sym_jones.op_rotation(theta_a)\n",
    "\n",
    "analyzer = sym_jones.op_linear_polarizer(0)\n",
    "\n",
    "analyzer * rotate2 * refl * rotate1 * J"
   ]
  },
  {
   "cell_type": "code",
   "execution_count": null,
   "metadata": {
    "scrolled": true
   },
   "outputs": [],
   "source": [
    "intensity = sympy.simplify(sym_jones.intensity(QWP * POL))\n",
    "intensity"
   ]
  },
  {
   "cell_type": "code",
   "execution_count": null,
   "metadata": {},
   "outputs": [],
   "source": [
    "phase = sympy.simplify(sym_jones.phase(QWP * POL))\n",
    "phase"
   ]
  },
  {
   "cell_type": "code",
   "execution_count": null,
   "metadata": {},
   "outputs": [],
   "source": [
    "ph = sympy.lambdify((theta), phase)\n",
    "ph(0.1)"
   ]
  },
  {
   "cell_type": "code",
   "execution_count": null,
   "metadata": {},
   "outputs": [],
   "source": [
    "th = np.linspace(0,np.pi,100)\n",
    "plt.plot(np.degrees(th),np.degrees(ph(th)))\n",
    "plt.yticks([90,0,-90,-180,-270])\n",
    "plt.xticks([0,45,90,135,180])\n",
    "plt.grid(True)\n",
    "plt.ylabel('Polarization Phase of Exiting Light')\n",
    "plt.xlabel('Linear Polarization Angle')\n",
    "plt.title('Linearly polarized light passing through a QWP')\n",
    "plt.show()"
   ]
  },
  {
   "cell_type": "code",
   "execution_count": null,
   "metadata": {},
   "outputs": [],
   "source": [
    "qwp = jones.op_quarter_wave_plate(np.pi/4)\n",
    "\n",
    "plt.subplots(4,4,figsize=(8,8))\n",
    "for i in range(16):\n",
    "    theta = np.radians(15*i)\n",
    "    pol = jones.field_linear(theta)\n",
    "    result = qwp @ pol\n",
    "    vis.draw_jones_ellipse(result)\n",
    "        \n",
    "    "
   ]
  },
  {
   "cell_type": "code",
   "execution_count": null,
   "metadata": {
    "scrolled": true
   },
   "outputs": [],
   "source": [
    "angle = np.linspace(0,90,100)\n",
    "\n",
    "m = 1.5\n",
    "\n",
    "rp = fresnel.r_par(m,np.radians(angle))\n",
    "rs = fresnel.r_per(m,np.radians(angle))\n",
    "\n",
    "plt.plot(angle,rp,label='$r_p$')\n",
    "plt.plot(angle,rs,label='$r_s$')\n",
    "plt.axhline(0,color='black')\n",
    "plt.axvline(50,color='black')\n",
    "plt.axvline(70,color='black')\n",
    "\n",
    "\n",
    "plt.xlabel('Angle of Incidence (°)')\n",
    "plt.ylabel('Field Reflectance')\n",
    "plt.title('Glass')\n",
    "plt.legend()\n",
    "plt.show()"
   ]
  },
  {
   "cell_type": "code",
   "execution_count": null,
   "metadata": {
    "scrolled": true
   },
   "outputs": [],
   "source": [
    "plt.plot(angle,np.degrees(np.arctan(np.abs(rp/rs))),label='arctan($r_p/r_s$)')\n",
    "#plt.axhline(0,color='black')\n",
    "plt.axvline(50,color='black')\n",
    "plt.axvline(70,color='black')\n",
    "\n",
    "plt.xlabel('Angle of Incidence (°)')\n",
    "plt.ylabel('Field Reflectance')\n",
    "plt.title('Glass')\n",
    "plt.grid(True)\n",
    "plt.legend()\n",
    "plt.show()"
   ]
  },
  {
   "cell_type": "code",
   "execution_count": null,
   "metadata": {
    "scrolled": true
   },
   "outputs": [],
   "source": [
    "plt.plot(angle,np.angle(rs)-np.angle(rp),label='$r_p-r_s$')\n",
    "plt.axvline(50,color='black')\n",
    "plt.axvline(70,color='black')\n",
    "\n",
    "plt.xlabel('Angle of Incidence (°)')\n",
    "plt.ylabel('Phase of Reflectance')\n",
    "plt.title('Glass')\n",
    "plt.legend()\n",
    "plt.show()"
   ]
  },
  {
   "cell_type": "code",
   "execution_count": null,
   "metadata": {
    "scrolled": true
   },
   "outputs": [],
   "source": [
    "angle = np.linspace(0,90,100)\n",
    "\n",
    "m = 3.88 - 0.15j\n",
    "\n",
    "rp = fresnel.r_par(m,np.radians(angle))\n",
    "rs = fresnel.r_per(m,np.radians(angle))\n",
    "\n",
    "plt.plot(angle,rp,label='$r_p$')\n",
    "plt.plot(angle,rs,label='$r_s$')\n",
    "plt.axhline(0,color='black')\n",
    "plt.axvline(50,color='black')\n",
    "plt.axvline(70,color='black')\n",
    "\n",
    "plt.xlabel('Angle of Incidence (°)')\n",
    "plt.ylabel('Field Reflectance')\n",
    "plt.title('Silicon')\n",
    "plt.legend()\n",
    "plt.show()"
   ]
  },
  {
   "cell_type": "code",
   "execution_count": null,
   "metadata": {
    "scrolled": true
   },
   "outputs": [],
   "source": [
    "plt.plot(angle,np.degrees(np.arctan(np.abs(rp/rs))),label='arctan($r_p/r_s$)')\n",
    "#plt.axhline(0,color='black')\n",
    "plt.axvline(50,color='black')\n",
    "plt.axvline(70,color='black')\n",
    "\n",
    "plt.xlabel('Angle of Incidence (°)')\n",
    "plt.ylabel('Field Reflectance')\n",
    "plt.title('Silicon')\n",
    "plt.grid(True)\n",
    "plt.legend()\n",
    "plt.show()"
   ]
  },
  {
   "cell_type": "code",
   "execution_count": null,
   "metadata": {
    "scrolled": true
   },
   "outputs": [],
   "source": [
    "plt.plot(angle,np.angle(rp),label='$r_p$')\n",
    "plt.plot(angle,np.angle(rs),label='$r_s$')\n",
    "plt.axvline(50,color='black')\n",
    "plt.axvline(70,color='black')\n",
    "\n",
    "plt.xlabel('Angle of Incidence (°)')\n",
    "plt.ylabel('Phase of Reflectance')\n",
    "plt.title('Silicon')\n",
    "plt.legend()\n",
    "plt.show()"
   ]
  },
  {
   "cell_type": "code",
   "execution_count": null,
   "metadata": {
    "scrolled": true
   },
   "outputs": [],
   "source": [
    "plt.plot(angle,np.degrees(np.angle(rs)-np.angle(rp)),label='$r_p-r_s$')\n",
    "plt.axvline(50,color='black')\n",
    "plt.axvline(70,color='black')\n",
    "plt.axhline(180,color='black',linestyle=':')\n",
    "plt.xlabel('Angle of Incidence (°)')\n",
    "plt.ylabel('Phase Difference')\n",
    "plt.title('Silicon')\n",
    "plt.legend()\n",
    "plt.show()"
   ]
  },
  {
   "cell_type": "code",
   "execution_count": null,
   "metadata": {},
   "outputs": [],
   "source": [
    "def test_index(P1,P2,A1,A2,thetai):\n",
    "    psi, Delta = null_experiment(np.radians(P1),np.radians(P2),np.radians(A1),np.radians(A2))\n",
    "    m = ellipsometry_index2(Delta,np.tan(psi),np.radians(thetai))\n",
    "    return m\n",
    "\n",
    "thetai = 70\n",
    "A1 = 20\n",
    "P1 = 135\n",
    "A2 = 155\n",
    "P2 = 230\n",
    "\n",
    "m = test_index(P1,P2,A1,A2,thetai)\n",
    "\n",
    "error = 2\n",
    "\n",
    "m1 = test_index(P1+error,P2,A1,A2,thetai)\n",
    "m2 = test_index(P1,P2+error,A1,A2,thetai)\n",
    "m3 = test_index(P1,P2,A1+error,A2,thetai)\n",
    "m4 = test_index(P1,P2,A1,A2+error,thetai)\n",
    "\n",
    "print(\"% .4f\"%np.real(m))\n",
    "print(\"% .4f\"%np.real(m-m1))\n",
    "print(\"% .4f\"%np.real(m-m2))\n",
    "print(\"% .4f\"%np.real(m-m3))\n",
    "print(\"% .4f\"%np.real(m-m4))\n"
   ]
  },
  {
   "cell_type": "markdown",
   "metadata": {},
   "source": [
    "Now validate that the known index of refraction is recovered and that the equation above is valid."
   ]
  },
  {
   "cell_type": "code",
   "execution_count": null,
   "metadata": {},
   "outputs": [],
   "source": [
    "# Now calculate the \n",
    "m2 = fresnel.ellipsometry_index(rho, theta)\n",
    "\n",
    "plt.plot(th, m2.real)\n",
    "plt.plot(th, -m2.imag)\n",
    "\n",
    "plt.annotate(r'n', xy=(th[-1],m2[-1].real), color='blue')\n",
    "plt.annotate(r'$\\kappa$', xy=(th[-1],-m2[-1].imag), color='red')\n",
    "\n",
    "plt.xlabel(r\"$\\theta$ (degrees)\")\n",
    "plt.ylabel('Real or Imaginary part of Refractive Index')\n",
    "plt.title('Refractive Index = %.4f %.4fj'%(m.real,m.imag))\n",
    "\n",
    "plt.show()"
   ]
  },
  {
   "cell_type": "markdown",
   "metadata": {},
   "source": [
    "Quantitatively show that things work out"
   ]
  },
  {
   "cell_type": "code",
   "execution_count": null,
   "metadata": {
    "scrolled": true
   },
   "outputs": [],
   "source": [
    "th = 70\n",
    "theta = th*np.pi/180\n",
    "m = 1.5 - 2.0j\n",
    "print('At and incidence angle of %.1f'%th)\n",
    "print('Refractive   Index = {:.3f}'.format(m))\n",
    "\n",
    "rho = fresnel.ellipsometry_rho(m,theta)\n",
    "m2 = fresnel.ellipsometry_index(rho,theta)         \n",
    "print('Ellipsometry Index = {:.3f} using rho'.format(m2))"
   ]
  },
  {
   "cell_type": "code",
   "execution_count": null,
   "metadata": {},
   "outputs": [],
   "source": []
  }
 ],
 "metadata": {
  "anaconda-cloud": {},
  "kernelspec": {
   "display_name": "Python 3",
   "language": "python",
   "name": "python3"
  },
  "language_info": {
   "codemirror_mode": {
    "name": "ipython",
    "version": 3
   },
   "file_extension": ".py",
   "mimetype": "text/x-python",
   "name": "python",
   "nbconvert_exporter": "python",
   "pygments_lexer": "ipython3",
   "version": "3.7.7"
  },
  "toc": {
   "nav_menu": {},
   "number_sections": true,
   "sideBar": false,
   "skip_h1_title": false,
   "toc_cell": false,
   "toc_position": {},
   "toc_section_display": "block",
   "toc_window_display": false
  }
 },
 "nbformat": 4,
 "nbformat_minor": 2
}
