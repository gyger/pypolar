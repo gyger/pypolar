{
 "cells": [
  {
   "cell_type": "markdown",
   "metadata": {},
   "source": [
    "# Gaertner L116A Ellipsometer\n",
    "\n",
    "**Scott Prahl**\n",
    "\n",
    "**May 2020**\n",
    "\n",
    "**Version 3**"
   ]
  },
  {
   "cell_type": "code",
   "execution_count": 1,
   "metadata": {},
   "outputs": [],
   "source": [
    "import numpy as np\n",
    "import matplotlib.pyplot as plt\n",
    "\n",
    "import pypolar.ellipsometry as ell\n",
    "import pypolar.gaerter as gaerter"
   ]
  },
  {
   "cell_type": "markdown",
   "metadata": {},
   "source": [
    "## Hardware\n",
    "\n",
    "This only of interest to the Oregon Tech students.\n",
    "\n",
    "Our Gaertner L116A ellipsometer was made in 1978.  Since the computer that was attached to this ellipsometer is long gone, we programmed an Arduino to serve as its computer interface.  The Arduino collects 72 data points from one rotation of the ellipsometer analyzer.  This array is sent over the USB serial connection to a host computer running a Jupyter notebook.\n",
    "\n",
    "<img src=\"https://omlc.org/~prahl/host/453/week3/ellipsometer.jpg\" width=\"50%\">\n",
    "\n",
    "## Optical Elements\n",
    "\n",
    "<img src=\"https://omlc.org/~prahl/host/453/week3/image-A-0014.png\" width=\"50%\">"
   ]
  },
  {
   "cell_type": "markdown",
   "metadata": {},
   "source": [
    "### Establishing a connection to the ellipsometer\n",
    "\n",
    "You must establish serial communication between your computer and the Arduino.\n",
    "**To do this you need to know the name of the serial connection.**\n",
    "\n",
    "One way to figure our the right name is to list the current serial ports on your computer:  `gaerter.current_serial_ports()` returns such a list.\n",
    "\n",
    "Of course, if the ellipsometer is not plugged into the computer then the proper serial port will not appear."
   ]
  },
  {
   "cell_type": "code",
   "execution_count": 2,
   "metadata": {},
   "outputs": [
    {
     "name": "stdout",
     "output_type": "stream",
     "text": [
      "                           portname  info\n",
      "  /dev/cu.RasputinsAirpods-Wirele-5  n/a\n",
      "    /dev/cu.AnnesBeatsSolo3-SPPServ  n/a\n",
      "  /dev/cu.RaspustinsOldAirPods-Wi-1  n/a\n",
      "    /dev/cu.Bluetooth-Incoming-Port  n/a\n",
      "    /dev/cu.AnnesBeatsSolo3-Wireles  n/a\n",
      "    /dev/cu.RasputinsAirpods-Wirele  n/a\n",
      "  /dev/cu.RasputinsAirpods-Wirele-1  n/a\n",
      "  /dev/cu.RasputinsAirpods-Wirele-2  n/a\n",
      "  /dev/cu.RasputinsAirpods-Wirele-3  n/a\n",
      "  /dev/cu.RasputinsAirpods-Wirele-4  n/a\n",
      "  /dev/cu.RasputinsAirpods-Wirele-6  n/a\n",
      "  /dev/cu.RasputinsAirpods-Wirele-7  n/a\n",
      "  /dev/cu.RasputinsAirpods-Wirele-8  n/a\n",
      "\n"
     ]
    }
   ],
   "source": [
    "s = gaerter.current_serial_ports()\n",
    "print(s)"
   ]
  },
  {
   "cell_type": "code",
   "execution_count": 3,
   "metadata": {},
   "outputs": [
    {
     "name": "stdout",
     "output_type": "stream",
     "text": [
      "ERROR: serial port '/dev/tty.usbmodem14101' is disconnected\n"
     ]
    }
   ],
   "source": [
    "### Identify the port that is connected to the Arduino\n",
    "### Copy that portname and port connected to the Ardunio string from above as the correct serial port id below\n",
    "\n",
    "id = '/dev/tty.usbmodem14101'   # UPDATE ME\n",
    "\n",
    "conn = gaerter.connect_to_ellipsometer(id)"
   ]
  },
  {
   "cell_type": "markdown",
   "metadata": {},
   "source": [
    "### Summary\n",
    "\n",
    "This notebook won't collect data unless everything is turned on and you establish basic serial communication between your computer and the ellipsometer.\n",
    "\n",
    "* install `pyserial`\n",
    "\n",
    "* connect your computer to the ellipsometer\n",
    "\n",
    "* identify the name of the serial port\n",
    "\n",
    "* turn on ellipsometer and laser\n",
    "\n",
    "* start analyzer motor\n",
    "\n",
    "* collect data\n"
   ]
  },
  {
   "cell_type": "markdown",
   "metadata": {},
   "source": [
    "### Convenience Analysis Routines"
   ]
  },
  {
   "cell_type": "code",
   "execution_count": 4,
   "metadata": {},
   "outputs": [],
   "source": [
    "# the angle phi is uniformly distributed from 0 to 360 across 72 datapoints\n",
    "degrees = np.linspace(0,360,num=72,endpoint=False)\n",
    "phi = np.radians(degrees)\n",
    "\n",
    "signal_1 = np.array([2297,2185,2037,1903,1769,1626,1475,1252,1011,787,596,431,292,174,88,32,20,41,102,199,327,491,667,878,1077,1296,1512,1698,1911,2067,2223,2342,2382,2420,2445,2419,2324,2266,2118,2011,1785,1600,1411,1178,989,777,600,435,286,168,83,31,21,40,101,191,313,452,643,831,1041,1241,1393,1593,1736,1920,2048,2180,2291,2296,2369,2260])\n",
    "signal_2 = np.array([2449,2520,2515,2484,2431,2342,2189,2042,1859,1655,1447,1229,1018,807,628,450,296,175,85,34,19,42,105,197,322,470,662,869,1087,1290,1462,1625,1803,1978,2129,2271,2371,2415,2420,2387,2288,2176,2048,1927,1787,1654,1475,1254,1025,792,597,436,297,174,89,34,19,41,103,200,332,493,677,874,1087,1304,1517,1708,1915,2087,2219,2352])"
   ]
  },
  {
   "cell_type": "markdown",
   "metadata": {},
   "source": [
    "### Obtaining a signal\n",
    "\n",
    "To acquire 72 equally spaced measurements as the analyzer is rotated, just do\n",
    "```\n",
    "signal=get_reflectance(conn)\n",
    "```"
   ]
  },
  {
   "cell_type": "code",
   "execution_count": 5,
   "metadata": {},
   "outputs": [
    {
     "name": "stdout",
     "output_type": "stream",
     "text": [
      "ERROR: file 'silicon, I=30.0°, P=0.0°, QWP=True, 2019-04-23-15-19-42.txt' does not exist\n",
      "None\n"
     ]
    },
    {
     "ename": "TypeError",
     "evalue": "unsupported operand type(s) for /: 'NoneType' and 'int'",
     "output_type": "error",
     "traceback": [
      "\u001b[0;31m---------------------------------------------------------------------------\u001b[0m",
      "\u001b[0;31mTypeError\u001b[0m                                 Traceback (most recent call last)",
      "\u001b[0;32m<ipython-input-5-545b1f9f9503>\u001b[0m in \u001b[0;36m<module>\u001b[0;34m\u001b[0m\n\u001b[1;32m     11\u001b[0m \u001b[0;34m\u001b[0m\u001b[0m\n\u001b[1;32m     12\u001b[0m \u001b[0mprint\u001b[0m\u001b[0;34m(\u001b[0m\u001b[0msignal\u001b[0m\u001b[0;34m)\u001b[0m\u001b[0;34m\u001b[0m\u001b[0;34m\u001b[0m\u001b[0m\n\u001b[0;32m---> 13\u001b[0;31m \u001b[0mI_0\u001b[0m\u001b[0;34m,\u001b[0m \u001b[0malpha\u001b[0m\u001b[0;34m,\u001b[0m \u001b[0mbeta\u001b[0m \u001b[0;34m=\u001b[0m \u001b[0mell\u001b[0m\u001b[0;34m.\u001b[0m\u001b[0mfind_fourier\u001b[0m\u001b[0;34m(\u001b[0m\u001b[0mphi\u001b[0m\u001b[0;34m,\u001b[0m\u001b[0msignal\u001b[0m\u001b[0;34m)\u001b[0m\u001b[0;34m\u001b[0m\u001b[0;34m\u001b[0m\u001b[0m\n\u001b[0m\u001b[1;32m     14\u001b[0m \u001b[0mfitted_signal\u001b[0m \u001b[0;34m=\u001b[0m \u001b[0mI_0\u001b[0m\u001b[0;34m*\u001b[0m\u001b[0;34m(\u001b[0m\u001b[0;36m1\u001b[0m\u001b[0;34m+\u001b[0m\u001b[0malpha\u001b[0m\u001b[0;34m*\u001b[0m\u001b[0mnp\u001b[0m\u001b[0;34m.\u001b[0m\u001b[0mcos\u001b[0m\u001b[0;34m(\u001b[0m\u001b[0;36m2\u001b[0m\u001b[0;34m*\u001b[0m\u001b[0mphi\u001b[0m\u001b[0;34m)\u001b[0m\u001b[0;34m+\u001b[0m\u001b[0mbeta\u001b[0m\u001b[0;34m*\u001b[0m\u001b[0mnp\u001b[0m\u001b[0;34m.\u001b[0m\u001b[0msin\u001b[0m\u001b[0;34m(\u001b[0m\u001b[0;36m2\u001b[0m\u001b[0;34m*\u001b[0m\u001b[0mphi\u001b[0m\u001b[0;34m)\u001b[0m\u001b[0;34m)\u001b[0m\u001b[0;34m\u001b[0m\u001b[0;34m\u001b[0m\u001b[0m\n\u001b[1;32m     15\u001b[0m \u001b[0;34m\u001b[0m\u001b[0m\n",
      "\u001b[0;32m~/Documents/Code/git/pypolar/pypolar/ellipsometry.py\u001b[0m in \u001b[0;36mfind_fourier\u001b[0;34m(phi, signal)\u001b[0m\n\u001b[1;32m    324\u001b[0m         \u001b[0mI_0\u001b[0m\u001b[0;34m,\u001b[0m \u001b[0malpha\u001b[0m\u001b[0;34m,\u001b[0m \u001b[0mbeta\u001b[0m\u001b[0;34m\u001b[0m\u001b[0;34m\u001b[0m\u001b[0m\n\u001b[1;32m    325\u001b[0m     \"\"\"\n\u001b[0;32m--> 326\u001b[0;31m     \u001b[0mI_0\u001b[0m \u001b[0;34m=\u001b[0m \u001b[0mnp\u001b[0m\u001b[0;34m.\u001b[0m\u001b[0maverage\u001b[0m\u001b[0;34m(\u001b[0m\u001b[0msignal\u001b[0m\u001b[0;34m)\u001b[0m\u001b[0;34m\u001b[0m\u001b[0;34m\u001b[0m\u001b[0m\n\u001b[0m\u001b[1;32m    327\u001b[0m     \u001b[0mI_S\u001b[0m \u001b[0;34m=\u001b[0m \u001b[0;36m2\u001b[0m\u001b[0;34m*\u001b[0m\u001b[0mnp\u001b[0m\u001b[0;34m.\u001b[0m\u001b[0maverage\u001b[0m\u001b[0;34m(\u001b[0m\u001b[0msignal\u001b[0m\u001b[0;34m*\u001b[0m\u001b[0mnp\u001b[0m\u001b[0;34m.\u001b[0m\u001b[0msin\u001b[0m\u001b[0;34m(\u001b[0m\u001b[0;36m2\u001b[0m\u001b[0;34m*\u001b[0m\u001b[0mphi\u001b[0m\u001b[0;34m)\u001b[0m\u001b[0;34m)\u001b[0m\u001b[0;34m\u001b[0m\u001b[0;34m\u001b[0m\u001b[0m\n\u001b[1;32m    328\u001b[0m     \u001b[0mI_C\u001b[0m \u001b[0;34m=\u001b[0m \u001b[0;36m2\u001b[0m\u001b[0;34m*\u001b[0m\u001b[0mnp\u001b[0m\u001b[0;34m.\u001b[0m\u001b[0maverage\u001b[0m\u001b[0;34m(\u001b[0m\u001b[0msignal\u001b[0m\u001b[0;34m*\u001b[0m\u001b[0mnp\u001b[0m\u001b[0;34m.\u001b[0m\u001b[0mcos\u001b[0m\u001b[0;34m(\u001b[0m\u001b[0;36m2\u001b[0m\u001b[0;34m*\u001b[0m\u001b[0mphi\u001b[0m\u001b[0;34m)\u001b[0m\u001b[0;34m)\u001b[0m\u001b[0;34m\u001b[0m\u001b[0;34m\u001b[0m\u001b[0m\n",
      "\u001b[0;32m<__array_function__ internals>\u001b[0m in \u001b[0;36maverage\u001b[0;34m(*args, **kwargs)\u001b[0m\n",
      "\u001b[0;32m~/anaconda3/lib/python3.7/site-packages/numpy/lib/function_base.py\u001b[0m in \u001b[0;36maverage\u001b[0;34m(a, axis, weights, returned)\u001b[0m\n\u001b[1;32m    391\u001b[0m \u001b[0;34m\u001b[0m\u001b[0m\n\u001b[1;32m    392\u001b[0m     \u001b[0;32mif\u001b[0m \u001b[0mweights\u001b[0m \u001b[0;32mis\u001b[0m \u001b[0;32mNone\u001b[0m\u001b[0;34m:\u001b[0m\u001b[0;34m\u001b[0m\u001b[0;34m\u001b[0m\u001b[0m\n\u001b[0;32m--> 393\u001b[0;31m         \u001b[0mavg\u001b[0m \u001b[0;34m=\u001b[0m \u001b[0ma\u001b[0m\u001b[0;34m.\u001b[0m\u001b[0mmean\u001b[0m\u001b[0;34m(\u001b[0m\u001b[0maxis\u001b[0m\u001b[0;34m)\u001b[0m\u001b[0;34m\u001b[0m\u001b[0;34m\u001b[0m\u001b[0m\n\u001b[0m\u001b[1;32m    394\u001b[0m         \u001b[0mscl\u001b[0m \u001b[0;34m=\u001b[0m \u001b[0mavg\u001b[0m\u001b[0;34m.\u001b[0m\u001b[0mdtype\u001b[0m\u001b[0;34m.\u001b[0m\u001b[0mtype\u001b[0m\u001b[0;34m(\u001b[0m\u001b[0ma\u001b[0m\u001b[0;34m.\u001b[0m\u001b[0msize\u001b[0m\u001b[0;34m/\u001b[0m\u001b[0mavg\u001b[0m\u001b[0;34m.\u001b[0m\u001b[0msize\u001b[0m\u001b[0;34m)\u001b[0m\u001b[0;34m\u001b[0m\u001b[0;34m\u001b[0m\u001b[0m\n\u001b[1;32m    395\u001b[0m     \u001b[0;32melse\u001b[0m\u001b[0;34m:\u001b[0m\u001b[0;34m\u001b[0m\u001b[0;34m\u001b[0m\u001b[0m\n",
      "\u001b[0;32m~/anaconda3/lib/python3.7/site-packages/numpy/core/_methods.py\u001b[0m in \u001b[0;36m_mean\u001b[0;34m(a, axis, dtype, out, keepdims)\u001b[0m\n\u001b[1;32m    161\u001b[0m             \u001b[0mret\u001b[0m \u001b[0;34m=\u001b[0m \u001b[0mret\u001b[0m\u001b[0;34m.\u001b[0m\u001b[0mdtype\u001b[0m\u001b[0;34m.\u001b[0m\u001b[0mtype\u001b[0m\u001b[0;34m(\u001b[0m\u001b[0mret\u001b[0m \u001b[0;34m/\u001b[0m \u001b[0mrcount\u001b[0m\u001b[0;34m)\u001b[0m\u001b[0;34m\u001b[0m\u001b[0;34m\u001b[0m\u001b[0m\n\u001b[1;32m    162\u001b[0m     \u001b[0;32melse\u001b[0m\u001b[0;34m:\u001b[0m\u001b[0;34m\u001b[0m\u001b[0;34m\u001b[0m\u001b[0m\n\u001b[0;32m--> 163\u001b[0;31m         \u001b[0mret\u001b[0m \u001b[0;34m=\u001b[0m \u001b[0mret\u001b[0m \u001b[0;34m/\u001b[0m \u001b[0mrcount\u001b[0m\u001b[0;34m\u001b[0m\u001b[0;34m\u001b[0m\u001b[0m\n\u001b[0m\u001b[1;32m    164\u001b[0m \u001b[0;34m\u001b[0m\u001b[0m\n\u001b[1;32m    165\u001b[0m     \u001b[0;32mreturn\u001b[0m \u001b[0mret\u001b[0m\u001b[0;34m\u001b[0m\u001b[0;34m\u001b[0m\u001b[0m\n",
      "\u001b[0;31mTypeError\u001b[0m: unsupported operand type(s) for /: 'NoneType' and 'int'"
     ]
    }
   ],
   "source": [
    "# Testing\n",
    "P = 350\n",
    "theta_i = 90\n",
    "QWP = False\n",
    "offset=30\n",
    "#signal=get_reflectance(conn)\n",
    "#filename=save_data_with_name(signal,'silicon',theta_i,P,QWP)\n",
    "\n",
    "filename = 'silicon, I=30.0°, P=0.0°, QWP=True, 2019-04-23-15-19-42.txt'\n",
    "signal = gaerter.read_data_with_name(filename)\n",
    "\n",
    "print(signal)\n",
    "I_0, alpha, beta = ell.find_fourier(phi,signal)\n",
    "fitted_signal = I_0*(1+alpha*np.cos(2*phi)+beta*np.sin(2*phi))\n",
    "\n",
    "plt.scatter(degrees,signal,s=5, color='black')\n",
    "plt.plot(degrees,fitted_signal, color='red')\n",
    "\n",
    "plt.xlabel(\"Analyzer Angle (degrees)\")\n",
    "plt.ylabel(\"Ellipsometer Measurement\")\n",
    "plt.title(r\"Silicon, $\\theta_i$=%.0f, P=%.1f°, QWP=%r\" % (theta_i, P, QWP) )\n",
    "plt.axvline(P,color='blue')\n",
    "plt.axvline((P+offset)%360,linestyle=':',color='blue')\n",
    "\n",
    "plt.xlim(-10,370)\n",
    "plt.show()\n",
    "\n",
    "print(\"   I_0 = %6.2f\" % I_0)\n",
    "print(\" alpha = %6.2f\" % alpha)\n",
    "print(\"  beta = %6.2f\" % beta)"
   ]
  },
  {
   "cell_type": "code",
   "execution_count": null,
   "metadata": {},
   "outputs": [],
   "source": []
  }
 ],
 "metadata": {
  "anaconda-cloud": {},
  "kernelspec": {
   "display_name": "Python 3",
   "language": "python",
   "name": "python3"
  },
  "language_info": {
   "codemirror_mode": {
    "name": "ipython",
    "version": 3
   },
   "file_extension": ".py",
   "mimetype": "text/x-python",
   "name": "python",
   "nbconvert_exporter": "python",
   "pygments_lexer": "ipython3",
   "version": "3.7.5"
  }
 },
 "nbformat": 4,
 "nbformat_minor": 1
}
